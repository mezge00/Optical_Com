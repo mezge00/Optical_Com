{
 "cells": [
  {
   "cell_type": "code",
   "execution_count": 1,
   "id": "0768cbc0",
   "metadata": {},
   "outputs": [
    {
     "name": "stdout",
     "output_type": "stream",
     "text": [
      "Receiver started. Listening for incoming data...\n",
      "\n",
      "Data rate: 0.00 bytes/second\n",
      "\n",
      "Data rate: 0.00 bytes/second\n",
      "\n",
      "Data rate: 0.00 bytes/second\n",
      "\n",
      "Receiver stopped.\n"
     ]
    }
   ],
   "source": [
    "import serial\n",
    "import sys\n",
    "import time\n",
    "\n",
    "# Open the serial port with a higher baud rate\n",
    "ser = serial.Serial('COM7', 9600, timeout=1)\n",
    "\n",
    "print(\"Receiver started. Listening for incoming data...\")\n",
    "\n",
    "start_time = time.time()\n",
    "bytes_received = 0\n",
    "\n",
    "try:\n",
    "    while True:\n",
    "        # Read the incoming data\n",
    "        data = ser.read(1024)\n",
    "        \n",
    "        # Update the byte count\n",
    "        bytes_received += len(data)\n",
    "\n",
    "        # Decode the data using ASCII decoding\n",
    "        decoded_data = data.decode('ascii', errors='ignore')\n",
    "\n",
    "        # Print the received data\n",
    "        print(decoded_data, end='')\n",
    "\n",
    "        # Flush the buffer to ensure timely printing\n",
    "        sys.stdout.flush()\n",
    "\n",
    "        # Calculate elapsed time\n",
    "        elapsed_time = time.time() - start_time\n",
    "\n",
    "        # Display data rate every second\n",
    "        if elapsed_time >= 1.0:\n",
    "            data_rate = bytes_received / elapsed_time  # bytes per second\n",
    "            print(f\"\\nData rate: {data_rate:.2f} bytes/second\")\n",
    "\n",
    "            # Reset the counters\n",
    "            start_time = time.time()\n",
    "            bytes_received = 0\n",
    "\n",
    "except KeyboardInterrupt:\n",
    "    # Graceful exit on keyboard interrupt\n",
    "    print(\"\\nReceiver stopped.\")\n",
    "\n",
    "finally:\n",
    "    # Close the serial port\n",
    "    ser.close()\n"
   ]
  },
  {
   "cell_type": "code",
   "execution_count": null,
   "id": "77287e8f",
   "metadata": {},
   "outputs": [],
   "source": []
  }
 ],
 "metadata": {
  "kernelspec": {
   "display_name": "Python 3 (ipykernel)",
   "language": "python",
   "name": "python3"
  },
  "language_info": {
   "codemirror_mode": {
    "name": "ipython",
    "version": 3
   },
   "file_extension": ".py",
   "mimetype": "text/x-python",
   "name": "python",
   "nbconvert_exporter": "python",
   "pygments_lexer": "ipython3",
   "version": "3.9.13"
  }
 },
 "nbformat": 4,
 "nbformat_minor": 5
}
